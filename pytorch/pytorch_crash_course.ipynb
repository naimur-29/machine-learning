{
  "nbformat": 4,
  "nbformat_minor": 0,
  "metadata": {
    "colab": {
      "provenance": [],
      "authorship_tag": "ABX9TyNfpu7yZCfqgL4FabqYLIRM",
      "include_colab_link": true
    },
    "kernelspec": {
      "name": "python3",
      "display_name": "Python 3"
    },
    "language_info": {
      "name": "python"
    },
    "gpuClass": "standard"
  },
  "cells": [
    {
      "cell_type": "markdown",
      "metadata": {
        "id": "view-in-github",
        "colab_type": "text"
      },
      "source": [
        "<a href=\"https://colab.research.google.com/github/naimur-29/machine-learning/blob/main/pytorch/pytorch_crash_course.ipynb\" target=\"_parent\"><img src=\"https://colab.research.google.com/assets/colab-badge.svg\" alt=\"Open In Colab\"/></a>"
      ]
    },
    {
      "cell_type": "markdown",
      "source": [
        "# Tensor Basics"
      ],
      "metadata": {
        "id": "538nrBe1q9sM"
      }
    },
    {
      "cell_type": "code",
      "execution_count": 2,
      "metadata": {
        "id": "23MpftvboMJp"
      },
      "outputs": [],
      "source": [
        "import torch"
      ]
    },
    {
      "cell_type": "code",
      "source": [
        "x = torch.empty(2, 2, 2, 3)\n",
        "x"
      ],
      "metadata": {
        "colab": {
          "base_uri": "https://localhost:8080/"
        },
        "id": "v8qb2omzorJ3",
        "outputId": "3c675813-3474-4d7e-d74e-30f902896772"
      },
      "execution_count": 3,
      "outputs": [
        {
          "output_type": "execute_result",
          "data": {
            "text/plain": [
              "tensor([[[[-6.9024e+12,  4.5772e-41,  0.0000e+00],\n",
              "          [ 4.5773e-41, -6.5662e-31,  4.5773e-41]],\n",
              "\n",
              "         [[ 5.7989e+26,  4.5773e-41,  5.3515e+26],\n",
              "          [ 4.5773e-41,  5.6356e+26,  4.5773e-41]]],\n",
              "\n",
              "\n",
              "        [[[ 5.6364e+26,  4.5773e-41,  4.2938e+24],\n",
              "          [ 4.5773e-41,  5.7850e+26,  4.5773e-41]],\n",
              "\n",
              "         [[-2.4400e-29,  4.5773e-41, -2.3792e-29],\n",
              "          [ 4.5773e-41, -6.7510e-29,  4.5773e-41]]]])"
            ]
          },
          "metadata": {},
          "execution_count": 3
        }
      ]
    },
    {
      "cell_type": "code",
      "source": [
        "torch.rand(2, 2)"
      ],
      "metadata": {
        "colab": {
          "base_uri": "https://localhost:8080/"
        },
        "id": "TRjCBQCUo8n_",
        "outputId": "41290fb6-55a3-480c-9174-076c85c24965"
      },
      "execution_count": 4,
      "outputs": [
        {
          "output_type": "execute_result",
          "data": {
            "text/plain": [
              "tensor([[0.7356, 0.9251],\n",
              "        [0.7574, 0.6509]])"
            ]
          },
          "metadata": {},
          "execution_count": 4
        }
      ]
    },
    {
      "cell_type": "code",
      "source": [
        "torch.zeros(3, 4)"
      ],
      "metadata": {
        "colab": {
          "base_uri": "https://localhost:8080/"
        },
        "id": "QHkgYtWupAfS",
        "outputId": "372cbe30-e813-4eb8-b323-49624cafa7ae"
      },
      "execution_count": 5,
      "outputs": [
        {
          "output_type": "execute_result",
          "data": {
            "text/plain": [
              "tensor([[0., 0., 0., 0.],\n",
              "        [0., 0., 0., 0.],\n",
              "        [0., 0., 0., 0.]])"
            ]
          },
          "metadata": {},
          "execution_count": 5
        }
      ]
    },
    {
      "cell_type": "code",
      "source": [
        "torch.ones(4, 3)"
      ],
      "metadata": {
        "colab": {
          "base_uri": "https://localhost:8080/"
        },
        "id": "p10v6gSapE6L",
        "outputId": "1fd4b782-ba79-4e51-894a-9efe844d6152"
      },
      "execution_count": 6,
      "outputs": [
        {
          "output_type": "execute_result",
          "data": {
            "text/plain": [
              "tensor([[1., 1., 1.],\n",
              "        [1., 1., 1.],\n",
              "        [1., 1., 1.],\n",
              "        [1., 1., 1.]])"
            ]
          },
          "metadata": {},
          "execution_count": 6
        }
      ]
    },
    {
      "cell_type": "code",
      "source": [
        "x.dtype"
      ],
      "metadata": {
        "colab": {
          "base_uri": "https://localhost:8080/"
        },
        "id": "-G0iYjmrpH3A",
        "outputId": "b5875f31-14f6-41d0-b3b5-7c74a807013d"
      },
      "execution_count": 7,
      "outputs": [
        {
          "output_type": "execute_result",
          "data": {
            "text/plain": [
              "torch.float32"
            ]
          },
          "metadata": {},
          "execution_count": 7
        }
      ]
    },
    {
      "cell_type": "code",
      "source": [
        "x = torch.ones(3, 4, dtype=torch.double)\n",
        "x"
      ],
      "metadata": {
        "colab": {
          "base_uri": "https://localhost:8080/"
        },
        "id": "JECtIUoTpKiq",
        "outputId": "63a8c0a9-be8f-4c0c-bb66-dd23cd081204"
      },
      "execution_count": 8,
      "outputs": [
        {
          "output_type": "execute_result",
          "data": {
            "text/plain": [
              "tensor([[1., 1., 1., 1.],\n",
              "        [1., 1., 1., 1.],\n",
              "        [1., 1., 1., 1.]], dtype=torch.float64)"
            ]
          },
          "metadata": {},
          "execution_count": 8
        }
      ]
    },
    {
      "cell_type": "code",
      "source": [
        "x.shape, x.ndim"
      ],
      "metadata": {
        "colab": {
          "base_uri": "https://localhost:8080/"
        },
        "id": "wQIfj0XBpUvG",
        "outputId": "e95d2c3e-84e8-4aa4-b1c6-b994c30c49b7"
      },
      "execution_count": 9,
      "outputs": [
        {
          "output_type": "execute_result",
          "data": {
            "text/plain": [
              "(torch.Size([3, 4]), 2)"
            ]
          },
          "metadata": {},
          "execution_count": 9
        }
      ]
    },
    {
      "cell_type": "code",
      "source": [
        "x = torch.rand(2, 2)\n",
        "y = torch.rand(2, 2)\n",
        "\n",
        "x, y"
      ],
      "metadata": {
        "colab": {
          "base_uri": "https://localhost:8080/"
        },
        "id": "FSqD7CG5pb29",
        "outputId": "1ed45b8f-9185-419c-e926-08f139d01cf2"
      },
      "execution_count": 10,
      "outputs": [
        {
          "output_type": "execute_result",
          "data": {
            "text/plain": [
              "(tensor([[0.6685, 0.0806],\n",
              "         [0.6585, 0.5156]]), tensor([[0.6652, 0.5762],\n",
              "         [0.4528, 0.7551]]))"
            ]
          },
          "metadata": {},
          "execution_count": 10
        }
      ]
    },
    {
      "cell_type": "code",
      "source": [
        "z = x + y\n",
        "z"
      ],
      "metadata": {
        "colab": {
          "base_uri": "https://localhost:8080/"
        },
        "id": "0o8WjJR7poLM",
        "outputId": "f9996229-c44c-4118-9da2-62a68d2e0042"
      },
      "execution_count": 11,
      "outputs": [
        {
          "output_type": "execute_result",
          "data": {
            "text/plain": [
              "tensor([[1.3338, 0.6568],\n",
              "        [1.1112, 1.2707]])"
            ]
          },
          "metadata": {},
          "execution_count": 11
        }
      ]
    },
    {
      "cell_type": "code",
      "source": [
        "y.add_(x)\n",
        "y"
      ],
      "metadata": {
        "colab": {
          "base_uri": "https://localhost:8080/"
        },
        "id": "xZgL2Yi0pr4D",
        "outputId": "be910a86-4b00-45cc-9a7e-d9fac0ba9143"
      },
      "execution_count": 12,
      "outputs": [
        {
          "output_type": "execute_result",
          "data": {
            "text/plain": [
              "tensor([[1.3338, 0.6568],\n",
              "        [1.1112, 1.2707]])"
            ]
          },
          "metadata": {},
          "execution_count": 12
        }
      ]
    },
    {
      "cell_type": "code",
      "source": [
        "torch.mul(x, y)"
      ],
      "metadata": {
        "colab": {
          "base_uri": "https://localhost:8080/"
        },
        "id": "RxfPalHJpyH-",
        "outputId": "0c97ea36-7ddc-4da7-a46f-706c54b7de51"
      },
      "execution_count": 13,
      "outputs": [
        {
          "output_type": "execute_result",
          "data": {
            "text/plain": [
              "tensor([[0.8917, 0.0530],\n",
              "        [0.7317, 0.6552]])"
            ]
          },
          "metadata": {},
          "execution_count": 13
        }
      ]
    },
    {
      "cell_type": "code",
      "source": [
        "x, y, torch.div(x, y)"
      ],
      "metadata": {
        "colab": {
          "base_uri": "https://localhost:8080/"
        },
        "id": "OoESaZEiqCnA",
        "outputId": "a993b6c6-f0ff-4f26-be9a-0796afb475ea"
      },
      "execution_count": 14,
      "outputs": [
        {
          "output_type": "execute_result",
          "data": {
            "text/plain": [
              "(tensor([[0.6685, 0.0806],\n",
              "         [0.6585, 0.5156]]), tensor([[1.3338, 0.6568],\n",
              "         [1.1112, 1.2707]]), tensor([[0.5012, 0.1228],\n",
              "         [0.5926, 0.4058]]))"
            ]
          },
          "metadata": {},
          "execution_count": 14
        }
      ]
    },
    {
      "cell_type": "code",
      "source": [
        "x[:, 0]"
      ],
      "metadata": {
        "colab": {
          "base_uri": "https://localhost:8080/"
        },
        "id": "RIEVgu98qOtM",
        "outputId": "8edb7bdc-6c1b-4a3a-bd41-cadc29108fa6"
      },
      "execution_count": 15,
      "outputs": [
        {
          "output_type": "execute_result",
          "data": {
            "text/plain": [
              "tensor([0.6685, 0.6585])"
            ]
          },
          "metadata": {},
          "execution_count": 15
        }
      ]
    },
    {
      "cell_type": "code",
      "source": [
        "x = torch.rand(4, 4)\n",
        "x"
      ],
      "metadata": {
        "colab": {
          "base_uri": "https://localhost:8080/"
        },
        "id": "QGuyTrBWqmOL",
        "outputId": "35b5cf9e-608e-4689-e33f-897615d1fa77"
      },
      "execution_count": 16,
      "outputs": [
        {
          "output_type": "execute_result",
          "data": {
            "text/plain": [
              "tensor([[0.2624, 0.2008, 0.6910, 0.0264],\n",
              "        [0.7140, 0.7527, 0.3792, 0.0807],\n",
              "        [0.3538, 0.6370, 0.0568, 0.9077],\n",
              "        [0.1169, 0.7333, 0.5316, 0.3588]])"
            ]
          },
          "metadata": {},
          "execution_count": 16
        }
      ]
    },
    {
      "cell_type": "code",
      "source": [
        "y = x.view(-1, 8)\n",
        "y, y.size()"
      ],
      "metadata": {
        "colab": {
          "base_uri": "https://localhost:8080/"
        },
        "id": "j6vChiUGqpxy",
        "outputId": "4d237b35-cf7a-45b1-93dc-ae234088a4c7"
      },
      "execution_count": 17,
      "outputs": [
        {
          "output_type": "execute_result",
          "data": {
            "text/plain": [
              "(tensor([[0.2624, 0.2008, 0.6910, 0.0264, 0.7140, 0.7527, 0.3792, 0.0807],\n",
              "         [0.3538, 0.6370, 0.0568, 0.9077, 0.1169, 0.7333, 0.5316, 0.3588]]),\n",
              " torch.Size([2, 8]))"
            ]
          },
          "metadata": {},
          "execution_count": 17
        }
      ]
    },
    {
      "cell_type": "markdown",
      "source": [
        "## Converting Numpy to Tensors"
      ],
      "metadata": {
        "id": "LvMGh6vhq6N4"
      }
    },
    {
      "cell_type": "code",
      "source": [
        "import numpy as np"
      ],
      "metadata": {
        "id": "haBDPndhrLzS"
      },
      "execution_count": 18,
      "outputs": []
    },
    {
      "cell_type": "code",
      "source": [
        "a = torch.ones(5)\n",
        "a"
      ],
      "metadata": {
        "colab": {
          "base_uri": "https://localhost:8080/"
        },
        "id": "ICCjrqaLrQ0Z",
        "outputId": "3ad6c022-4f6c-4e88-b89a-2a35c4d557ff"
      },
      "execution_count": 19,
      "outputs": [
        {
          "output_type": "execute_result",
          "data": {
            "text/plain": [
              "tensor([1., 1., 1., 1., 1.])"
            ]
          },
          "metadata": {},
          "execution_count": 19
        }
      ]
    },
    {
      "cell_type": "code",
      "source": [
        "b = a.numpy()\n",
        "b, type(b)"
      ],
      "metadata": {
        "colab": {
          "base_uri": "https://localhost:8080/"
        },
        "id": "qgK15YlMrUAf",
        "outputId": "ce982883-854f-4469-b7c9-4f81de67d679"
      },
      "execution_count": 20,
      "outputs": [
        {
          "output_type": "execute_result",
          "data": {
            "text/plain": [
              "(array([1., 1., 1., 1., 1.], dtype=float32), numpy.ndarray)"
            ]
          },
          "metadata": {},
          "execution_count": 20
        }
      ]
    },
    {
      "cell_type": "code",
      "source": [
        "# same memory loaction:\n",
        "a.mul_(10)\n",
        "a, b"
      ],
      "metadata": {
        "colab": {
          "base_uri": "https://localhost:8080/"
        },
        "id": "Pz5CDP7SrfkN",
        "outputId": "2c759a04-d4ce-4eec-9d67-44608620baa6"
      },
      "execution_count": 21,
      "outputs": [
        {
          "output_type": "execute_result",
          "data": {
            "text/plain": [
              "(tensor([10., 10., 10., 10., 10.]),\n",
              " array([10., 10., 10., 10., 10.], dtype=float32))"
            ]
          },
          "metadata": {},
          "execution_count": 21
        }
      ]
    },
    {
      "cell_type": "code",
      "source": [
        "a = np.ones(5)\n",
        "a, type(a)"
      ],
      "metadata": {
        "colab": {
          "base_uri": "https://localhost:8080/"
        },
        "id": "YcmMmsQlrxB-",
        "outputId": "cada69db-7671-48d3-8c6b-f08d1e715583"
      },
      "execution_count": 22,
      "outputs": [
        {
          "output_type": "execute_result",
          "data": {
            "text/plain": [
              "(array([1., 1., 1., 1., 1.]), numpy.ndarray)"
            ]
          },
          "metadata": {},
          "execution_count": 22
        }
      ]
    },
    {
      "cell_type": "code",
      "source": [
        "b = torch.from_numpy(a)\n",
        "b, type(b)"
      ],
      "metadata": {
        "colab": {
          "base_uri": "https://localhost:8080/"
        },
        "id": "-npHs2Ozr0WY",
        "outputId": "2964d3bd-1a5b-4349-dea7-9b10d2c1f477"
      },
      "execution_count": 23,
      "outputs": [
        {
          "output_type": "execute_result",
          "data": {
            "text/plain": [
              "(tensor([1., 1., 1., 1., 1.], dtype=torch.float64), torch.Tensor)"
            ]
          },
          "metadata": {},
          "execution_count": 23
        }
      ]
    },
    {
      "cell_type": "code",
      "source": [
        "if torch.cuda.is_available():\n",
        "  device = torch.device(\"cuda\")\n",
        "  x = torch.ones(5, device=device)\n",
        "  y = torch.ones(5)\n",
        "  y = y.to(device)\n",
        "  z = x + y\n",
        "\n",
        "z\n",
        "# z = z.to(\"cpu\")\n",
        "# z.numpy()"
      ],
      "metadata": {
        "colab": {
          "base_uri": "https://localhost:8080/"
        },
        "id": "YRCtFU3BsJwB",
        "outputId": "84fce980-9769-45fa-9005-e7480f0f7913"
      },
      "execution_count": 24,
      "outputs": [
        {
          "output_type": "execute_result",
          "data": {
            "text/plain": [
              "tensor([[1.3338, 0.6568],\n",
              "        [1.1112, 1.2707]])"
            ]
          },
          "metadata": {},
          "execution_count": 24
        }
      ]
    },
    {
      "cell_type": "code",
      "source": [
        "!nvidia-smi"
      ],
      "metadata": {
        "colab": {
          "base_uri": "https://localhost:8080/"
        },
        "id": "KOOnQdzMsyyg",
        "outputId": "95fba558-aaf6-4134-a95e-9ef3246003a2"
      },
      "execution_count": 25,
      "outputs": [
        {
          "output_type": "stream",
          "name": "stdout",
          "text": [
            "NVIDIA-SMI has failed because it couldn't communicate with the NVIDIA driver. Make sure that the latest NVIDIA driver is installed and running.\n",
            "\n"
          ]
        }
      ]
    },
    {
      "cell_type": "code",
      "source": [
        "x = torch.rand(5, requires_grad=True)\n",
        "x"
      ],
      "metadata": {
        "colab": {
          "base_uri": "https://localhost:8080/"
        },
        "id": "9PB4adWUtWvs",
        "outputId": "94a356e0-f327-45ff-971b-a04bbe2509b2"
      },
      "execution_count": 26,
      "outputs": [
        {
          "output_type": "execute_result",
          "data": {
            "text/plain": [
              "tensor([0.0205, 0.2780, 0.0760, 0.0818, 0.1757], requires_grad=True)"
            ]
          },
          "metadata": {},
          "execution_count": 26
        }
      ]
    },
    {
      "cell_type": "code",
      "source": [
        "# Autograd\n",
        "x = torch.randn(3, requires_grad=True)\n",
        "x"
      ],
      "metadata": {
        "colab": {
          "base_uri": "https://localhost:8080/"
        },
        "id": "4KGIbYYotxjn",
        "outputId": "744cf893-dad1-468d-bfe0-a7bb4cbd11a4"
      },
      "execution_count": 51,
      "outputs": [
        {
          "output_type": "execute_result",
          "data": {
            "text/plain": [
              "tensor([-1.5433,  0.1096, -0.7666], requires_grad=True)"
            ]
          },
          "metadata": {},
          "execution_count": 51
        }
      ]
    },
    {
      "cell_type": "code",
      "source": [
        "y = x + 2\n",
        "y"
      ],
      "metadata": {
        "id": "he6qbwofuBJ6",
        "colab": {
          "base_uri": "https://localhost:8080/"
        },
        "outputId": "b99b924e-17a4-4842-854a-c3f39b6b9291"
      },
      "execution_count": 43,
      "outputs": [
        {
          "output_type": "execute_result",
          "data": {
            "text/plain": [
              "tensor([2.4659, 2.3728, 1.1365], grad_fn=<AddBackward0>)"
            ]
          },
          "metadata": {},
          "execution_count": 43
        }
      ]
    },
    {
      "cell_type": "code",
      "source": [
        "z = y*y*2\n",
        "z"
      ],
      "metadata": {
        "colab": {
          "base_uri": "https://localhost:8080/"
        },
        "id": "scY0udidVg4Z",
        "outputId": "e5273497-1cbb-46fd-da17-d33b8aea4c2b"
      },
      "execution_count": 44,
      "outputs": [
        {
          "output_type": "execute_result",
          "data": {
            "text/plain": [
              "tensor([12.1618, 11.2606,  2.5834], grad_fn=<MulBackward0>)"
            ]
          },
          "metadata": {},
          "execution_count": 44
        }
      ]
    },
    {
      "cell_type": "code",
      "source": [
        "# z = z.mean()\n",
        "v = torch.tensor([0.1, 1, 0.001], dtype=torch.float32)"
      ],
      "metadata": {
        "id": "6-be__YOVlUA"
      },
      "execution_count": 46,
      "outputs": []
    },
    {
      "cell_type": "code",
      "source": [
        "z.backward(v)\n",
        "x.grad"
      ],
      "metadata": {
        "colab": {
          "base_uri": "https://localhost:8080/"
        },
        "id": "z2qCcfN_V5XJ",
        "outputId": "1078d394-dabf-45e2-916d-cd134d4c1b4e"
      },
      "execution_count": 48,
      "outputs": [
        {
          "output_type": "execute_result",
          "data": {
            "text/plain": [
              "tensor([9.8638e-01, 9.4913e+00, 4.5461e-03])"
            ]
          },
          "metadata": {},
          "execution_count": 48
        }
      ]
    },
    {
      "cell_type": "code",
      "source": [
        "# x.requires_grad_(False)\n",
        "# y = x.detach()\n",
        "with torch.no_grad():\n",
        "  y = x + 2\n",
        "\n",
        "y"
      ],
      "metadata": {
        "colab": {
          "base_uri": "https://localhost:8080/"
        },
        "id": "hUyqZtAnWqc3",
        "outputId": "7f833ca9-4dca-4b77-8ad7-9d87f3501da6"
      },
      "execution_count": 53,
      "outputs": [
        {
          "output_type": "execute_result",
          "data": {
            "text/plain": [
              "tensor([0.4567, 2.1096, 1.2334])"
            ]
          },
          "metadata": {},
          "execution_count": 53
        }
      ]
    },
    {
      "cell_type": "code",
      "source": [
        "weights = torch.ones(4, requires_grad=True)\n",
        "\n",
        "for epoch in range(3):\n",
        "  model_output = (weights*3).sum()\n",
        "  model_output.backward()\n",
        "  print(weights.grad)\n",
        "  weights.grad.zero_()"
      ],
      "metadata": {
        "colab": {
          "base_uri": "https://localhost:8080/"
        },
        "id": "gmY8dpQCYFs5",
        "outputId": "6f48d175-1d2d-4a14-ea2d-345d210c81d4"
      },
      "execution_count": 69,
      "outputs": [
        {
          "output_type": "stream",
          "name": "stdout",
          "text": [
            "tensor([3., 3., 3., 3.])\n",
            "tensor([3., 3., 3., 3.])\n",
            "tensor([3., 3., 3., 3.])\n"
          ]
        }
      ]
    },
    {
      "cell_type": "code",
      "source": [
        "# Backward propogation:\n",
        "# x = 1, y = 2, w = 1\n",
        "x = torch.tensor(1.0)\n",
        "y = torch.tensor(2.0)\n",
        "\n",
        "w = torch.tensor(1.0, requires_grad=True)\n",
        "\n",
        "# forward pass and compute the loss\n",
        "y_hat = w * x\n",
        "loss = (y_hat - y)**2\n",
        "loss"
      ],
      "metadata": {
        "colab": {
          "base_uri": "https://localhost:8080/"
        },
        "id": "70bfpQI5Y-Rh",
        "outputId": "7648fa51-ccf1-4649-9441-04814f9b5b31"
      },
      "execution_count": 73,
      "outputs": [
        {
          "output_type": "execute_result",
          "data": {
            "text/plain": [
              "tensor(1., grad_fn=<PowBackward0>)"
            ]
          },
          "metadata": {},
          "execution_count": 73
        }
      ]
    },
    {
      "cell_type": "code",
      "source": [
        "# backward pass\n",
        "loss.backward()\n",
        "w.grad # then update weight & do next forward and backwards"
      ],
      "metadata": {
        "colab": {
          "base_uri": "https://localhost:8080/"
        },
        "id": "2vCFIQKGdFWK",
        "outputId": "9555cd56-d25e-414b-f9b0-2b677edf3721"
      },
      "execution_count": 74,
      "outputs": [
        {
          "output_type": "execute_result",
          "data": {
            "text/plain": [
              "tensor(-2.)"
            ]
          },
          "metadata": {},
          "execution_count": 74
        }
      ]
    },
    {
      "cell_type": "code",
      "source": [
        "# manually logistic regression:\n",
        "import numpy as np\n",
        "\n",
        "# f = w * x\n",
        "# f(y) = 2*x\n",
        "x = np.array([1, 2, 3, 4], dtype=np.float32)\n",
        "y = x * 2\n",
        "\n",
        "w = 0.0"
      ],
      "metadata": {
        "id": "gJTBYKtLdTEx"
      },
      "execution_count": 91,
      "outputs": []
    },
    {
      "cell_type": "code",
      "source": [
        "# model prediction\n",
        "def forward(x):\n",
        "  return w * x\n",
        "\n",
        "# loss = MSE(linear regression)\n",
        "def loss(y, y_predicted):\n",
        "  return ((y_predicted - y)**2).mean()\n",
        "\n",
        "# gradient\n",
        "def gradient(x, y, y_predicted):\n",
        "  return np.dot(2*x, y_predicted - y).mean()"
      ],
      "metadata": {
        "id": "DcF9L9NKeW7A"
      },
      "execution_count": 92,
      "outputs": []
    },
    {
      "cell_type": "code",
      "source": [
        "print(f'Prediction before training: f(5) = {forward(5):.3f}')\n",
        "\n",
        "learning_rate = 0.01\n",
        "n_iters = 20\n",
        "\n",
        "for epoch in range(n_iters):\n",
        "  # prediction = forward pass\n",
        "  y_pred = forward(x)\n",
        "\n",
        "  # loss\n",
        "  l = loss(y, y_pred)\n",
        "\n",
        "  # gradients\n",
        "  dw = gradient(x, y, y_pred)\n",
        "\n",
        "  # update weight\n",
        "  w -= learning_rate * dw\n",
        "\n",
        "  if epoch % 4 == 0:\n",
        "    print(f'epoch {epoch + 1}: weight = {w:.3f}, loss = {l:.8f}')\n",
        "\n",
        "print(f'Prediction after training: f(5) = {forward(5):.3f}')"
      ],
      "metadata": {
        "colab": {
          "base_uri": "https://localhost:8080/"
        },
        "id": "EqwoxRmkfHkY",
        "outputId": "e0720b46-3b19-46af-bc7e-836c825b71c3"
      },
      "execution_count": 93,
      "outputs": [
        {
          "output_type": "stream",
          "name": "stdout",
          "text": [
            "Prediction before training: f(5) = 0.000\n",
            "epoch 1: weight = 1.200, loss = 30.00000000\n",
            "epoch 5: weight = 1.980, loss = 0.01966083\n",
            "epoch 9: weight = 1.999, loss = 0.00001288\n",
            "epoch 13: weight = 2.000, loss = 0.00000001\n",
            "epoch 17: weight = 2.000, loss = 0.00000000\n",
            "Prediction after training: f(5) = 10.000\n"
          ]
        }
      ]
    },
    {
      "cell_type": "code",
      "source": [
        "# with pytorch's power\n",
        "X = torch.tensor([1, 2, 3, 4], dtype=torch.float32)\n",
        "Y = torch.tensor([5, 10, 15, 20], dtype=torch.float32)\n",
        "w = torch.tensor(0.0, dtype=torch.float32, requires_grad=True)\n",
        "\n",
        "print(X, Y, w)"
      ],
      "metadata": {
        "colab": {
          "base_uri": "https://localhost:8080/"
        },
        "id": "Y39rm6j_g1So",
        "outputId": "9ba515b3-161e-4b31-9c92-db7e86f7da26"
      },
      "execution_count": 128,
      "outputs": [
        {
          "output_type": "stream",
          "name": "stdout",
          "text": [
            "tensor([1., 2., 3., 4.]) tensor([ 5., 10., 15., 20.]) tensor(0., requires_grad=True)\n"
          ]
        }
      ]
    },
    {
      "cell_type": "code",
      "source": [
        "print(f'Prediction before training: {forward(5):.3f}')\n",
        "learning_rate = 0.01\n",
        "iters = 100\n",
        "\n",
        "for epoch in range(iters):\n",
        "  # forward/prediction\n",
        "  y_pred = forward(X)\n",
        "  # loss calculation\n",
        "  l = loss(Y, y_pred)\n",
        "  # backward/gradient calc\n",
        "  l.backward()\n",
        "\n",
        "  # updating the weight/backpropogation\n",
        "  with torch.no_grad():\n",
        "    w -= learning_rate * w.grad\n",
        "\n",
        "  # zero grad\n",
        "  w.grad.zero_()\n",
        "\n",
        "  if epoch % 20 == 0:\n",
        "    print(f'epoch {epoch + 1}: w = {w:.3f}, loss = {l:.8f}')\n",
        "\n",
        "print(f'Prediction before training: {forward(5):.3f}')"
      ],
      "metadata": {
        "colab": {
          "base_uri": "https://localhost:8080/"
        },
        "id": "mfQjEx2bhVxq",
        "outputId": "b5a16ce2-b528-412f-9d35-c01ff3ced41d"
      },
      "execution_count": 129,
      "outputs": [
        {
          "output_type": "stream",
          "name": "stdout",
          "text": [
            "Prediction before training: 0.000\n",
            "epoch 1: w = 0.750, loss = 187.50000000\n",
            "epoch 21: w = 4.835, loss = 0.28168115\n",
            "epoch 41: w = 4.994, loss = 0.00042319\n",
            "epoch 61: w = 5.000, loss = 0.00000063\n",
            "epoch 81: w = 5.000, loss = 0.00000000\n",
            "Prediction before training: 25.000\n"
          ]
        }
      ]
    },
    {
      "cell_type": "code",
      "source": [
        "print(f'Prediction before training: {forward(50):.3f}')"
      ],
      "metadata": {
        "colab": {
          "base_uri": "https://localhost:8080/"
        },
        "id": "dyAUmtJflApg",
        "outputId": "ae8e888d-95f4-4a78-9d43-46f0e27dd2ef"
      },
      "execution_count": 130,
      "outputs": [
        {
          "output_type": "stream",
          "name": "stdout",
          "text": [
            "Prediction before training: 250.000\n"
          ]
        }
      ]
    },
    {
      "cell_type": "markdown",
      "source": [
        "## Training Pipeline Steps\n",
        "1. Design Model (input, output size, forward pass)\n",
        "2. Construct loss and optimizer\n",
        "3. Training Loop\n",
        "  - forward pass: prediction\n",
        "  - backward pass: gradient calc.\n",
        "  - update weight"
      ],
      "metadata": {
        "id": "yyTwNAOplSwK"
      }
    },
    {
      "cell_type": "code",
      "source": [
        "import torch.nn as nn\n",
        "\n",
        "X = torch.tensor([[1], [2], [3], [4], [5]], dtype=torch.float32)\n",
        "Y = torch.tensor([[2], [4], [6], [8], [10]], dtype=torch.float32)\n",
        "\n",
        "X_test = torch.tensor([10], dtype=torch.float32)\n",
        "n_samples, n_features = X.shape\n",
        "\n",
        "print(X, Y, n_samples, n_features)"
      ],
      "metadata": {
        "colab": {
          "base_uri": "https://localhost:8080/"
        },
        "id": "sHmqQCNGl6lb",
        "outputId": "b9144aa7-8e9f-488c-b941-48bb16b19a77"
      },
      "execution_count": 158,
      "outputs": [
        {
          "output_type": "stream",
          "name": "stdout",
          "text": [
            "tensor([[1.],\n",
            "        [2.],\n",
            "        [3.],\n",
            "        [4.],\n",
            "        [5.]]) tensor([[ 2.],\n",
            "        [ 4.],\n",
            "        [ 6.],\n",
            "        [ 8.],\n",
            "        [10.]]) 5 1\n"
          ]
        }
      ]
    },
    {
      "cell_type": "code",
      "source": [
        "input_size = n_features\n",
        "output_size = n_features\n",
        "\n",
        "# model = nn.Linear(input_size, output_size)\n",
        "\n",
        "# custom model\n",
        "class LinearRegression(nn.Module):\n",
        "  def __init__(self, input_dim, output_dim):\n",
        "    super(LinearRegression, self).__init__()\n",
        "    # define layers\n",
        "    self.lin = nn.Linear(input_dim, output_dim)\n",
        "\n",
        "  def forward(self, x):\n",
        "    return self.lin(x)\n",
        "\n",
        "model = LinearRegression(input_size, output_size)"
      ],
      "metadata": {
        "id": "smWUvBcemgxu"
      },
      "execution_count": 207,
      "outputs": []
    },
    {
      "cell_type": "code",
      "source": [
        "print(f\"Prediction before tarining: {model(X_test).item():.3f}\")\n",
        "\n",
        "learning_rate = 0.02\n",
        "iters = 1000\n",
        "\n",
        "loss = nn.MSELoss()\n",
        "optimizer = torch.optim.SGD(model.parameters(), lr=learning_rate)\n",
        "\n",
        "for epoch in range(iters):\n",
        "  y_pred = model(X)\n",
        "  l = loss(Y, y_pred)\n",
        "\n",
        "  l.backward()\n",
        "\n",
        "  optimizer.step()\n",
        "\n",
        "  optimizer.zero_grad()\n",
        "\n",
        "  if epoch % 200 == 0:\n",
        "    [w, b] = model.parameters()\n",
        "    print(f'epoch {epoch + 1}: w = {w[0, 0].item():.3f}, loss = {l:.8f}')\n",
        "\n",
        "print(f\"Prediction before tarining: {model(X_test).item():.3f}\")"
      ],
      "metadata": {
        "colab": {
          "base_uri": "https://localhost:8080/"
        },
        "id": "ZvRsH0xVmsoJ",
        "outputId": "bf844a8c-bffe-44e5-9572-27b239924dd1"
      },
      "execution_count": 209,
      "outputs": [
        {
          "output_type": "stream",
          "name": "stdout",
          "text": [
            "Prediction before tarining: 19.998\n",
            "epoch 1: w = 2.000, loss = 0.00000022\n",
            "epoch 201: w = 2.000, loss = 0.00000001\n",
            "epoch 401: w = 2.000, loss = 0.00000000\n",
            "epoch 601: w = 2.000, loss = 0.00000000\n",
            "epoch 801: w = 2.000, loss = 0.00000000\n",
            "Prediction before tarining: 20.000\n"
          ]
        }
      ]
    },
    {
      "cell_type": "markdown",
      "source": [
        "## Linear Regression"
      ],
      "metadata": {
        "id": "T2ny22JMthtK"
      }
    },
    {
      "cell_type": "code",
      "source": [
        "import torch\n",
        "import torch.nn\n",
        "import numpy as np\n",
        "from sklearn import datasets\n",
        "import matplotlib.pyplot as plt"
      ],
      "metadata": {
        "id": "X7DyfjqgtlDI"
      },
      "execution_count": 211,
      "outputs": []
    },
    {
      "cell_type": "markdown",
      "source": [
        "### Prepare data"
      ],
      "metadata": {
        "id": "4vUg3n72t4_x"
      }
    },
    {
      "cell_type": "code",
      "source": [
        "X_numpy, Y_numpy = datasets.make_regression(n_samples=100, n_features=1, noise=20, random_state=1)\n",
        "\n",
        "X = torch.from_numpy(X_numpy.astype(np.float32))\n",
        "Y = torch.from_numpy(Y_numpy.astype(np.float32))\n",
        "\n",
        "Y = Y.view(Y.shape[0], 1)\n",
        "\n",
        "n_samples, n_features = X.shape\n",
        "\n",
        "# print(X, Y, n_samples, n_features)"
      ],
      "metadata": {
        "id": "3Bl_LnnouDyl"
      },
      "execution_count": 219,
      "outputs": []
    },
    {
      "cell_type": "markdown",
      "source": [
        "### Model"
      ],
      "metadata": {
        "id": "wi5h6r_4vJXI"
      }
    },
    {
      "cell_type": "code",
      "source": [
        "input_size = n_features\n",
        "output_size = 1\n",
        "\n",
        "model = nn.Linear(input_size, output_size)"
      ],
      "metadata": {
        "id": "RVvhUT3Zu8_J"
      },
      "execution_count": 242,
      "outputs": []
    },
    {
      "cell_type": "markdown",
      "source": [
        "### loss and optimizer"
      ],
      "metadata": {
        "id": "3vZspcRwvOeY"
      }
    },
    {
      "cell_type": "code",
      "source": [
        "learning_rate = 0.01\n",
        "iters = 1000\n",
        "\n",
        "criterion = nn.MSELoss()\n",
        "optimizer = torch.optim.SGD(model.parameters(), lr=learning_rate)"
      ],
      "metadata": {
        "id": "d168zupyvQ8z"
      },
      "execution_count": 243,
      "outputs": []
    },
    {
      "cell_type": "markdown",
      "source": [
        "### training loop"
      ],
      "metadata": {
        "id": "7dtft8xMvoCQ"
      }
    },
    {
      "cell_type": "code",
      "source": [
        "for epoch in range(iters):\n",
        "  # forward pass \n",
        "  y_pred = model(X)\n",
        "  loss = criterion(y_pred, Y)\n",
        "\n",
        "  # backward pass\n",
        "  loss.backward()\n",
        "\n",
        "  # update\n",
        "  optimizer.step()\n",
        "\n",
        "  optimizer.zero_grad()\n",
        "\n",
        "  if epoch % 200 == 0:\n",
        "    print(f\"epoch: {epoch + 1}, loss = {loss.item():.8f}\")\n",
        "\n",
        "predicted = model(X).detach().numpy()\n",
        "\n",
        "plt.plot(X_numpy, Y_numpy, 'ro')\n",
        "plt.plot(X_numpy, predicted, 'b')\n",
        "plt.show()"
      ],
      "metadata": {
        "colab": {
          "base_uri": "https://localhost:8080/",
          "height": 355
        },
        "id": "06ko0Y0ovq9M",
        "outputId": "d1d6438b-2593-4e19-8b71-338d98dedda9"
      },
      "execution_count": 245,
      "outputs": [
        {
          "output_type": "stream",
          "name": "stdout",
          "text": [
            "epoch: 1, loss = 332.56756592\n",
            "epoch: 201, loss = 332.56756592\n",
            "epoch: 401, loss = 332.56756592\n",
            "epoch: 601, loss = 332.56756592\n",
            "epoch: 801, loss = 332.56756592\n"
          ]
        },
        {
          "output_type": "display_data",
          "data": {
            "text/plain": [
              "<Figure size 432x288 with 1 Axes>"
            ],
            "image/png": "[encoded data removed]"
          },
          "metadata": {
            "needs_background": "light"
          }
        }
      ]
    }
  ]
}